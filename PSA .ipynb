{
 "cells": [
  {
   "cell_type": "code",
   "execution_count": 8,
   "id": "9ab600ff",
   "metadata": {},
   "outputs": [
    {
     "name": "stdout",
     "output_type": "stream",
     "text": [
      "   Unnamed: 0        Date  Q-P1  Q-P2  Q-P3  Q-P4      S-P1      S-P2  \\\n",
      "0           0  13-06-2010  5422  3725   576   907  17187.74  23616.50   \n",
      "1           1  14-06-2010  7047   779  3578  1574  22338.99   4938.86   \n",
      "2           2  15-06-2010  1572  2082   595  1145   4983.24  13199.88   \n",
      "3           3  16-06-2010  5657  2399  3140  1672  17932.69  15209.66   \n",
      "4           4  17-06-2010  3668  3207  2184   708  11627.56  20332.38   \n",
      "\n",
      "       S-P3      S-P4  \n",
      "0   3121.92   6466.91  \n",
      "1  19392.76  11222.62  \n",
      "2   3224.90   8163.85  \n",
      "3  17018.80  11921.36  \n",
      "4  11837.28   5048.04  \n"
     ]
    }
   ],
   "source": [
    "import pandas as pd\n",
    "file_path=\"C:/Users/91962/Documents/phase3.csv\" \n",
    "df = pd.read_csv(file_path)\n",
    "print(df.head())\n"
   ]
  },
  {
   "cell_type": "code",
   "execution_count": 9,
   "id": "e4b2a144",
   "metadata": {},
   "outputs": [
    {
     "name": "stdout",
     "output_type": "stream",
     "text": [
      "Missing values:\n",
      " Unnamed: 0    0\n",
      "Date          0\n",
      "Q-P1          0\n",
      "Q-P2          0\n",
      "Q-P3          0\n",
      "Q-P4          0\n",
      "S-P1          0\n",
      "S-P2          0\n",
      "S-P3          0\n",
      "S-P4          0\n",
      "dtype: int64\n"
     ]
    }
   ],
   "source": [
    "print(\"Missing values:\\n\", df.isnull().sum())"
   ]
  },
  {
   "cell_type": "code",
   "execution_count": 10,
   "id": "709bcc9b",
   "metadata": {},
   "outputs": [
    {
     "name": "stdout",
     "output_type": "stream",
     "text": [
      "Data Types:\n",
      " Unnamed: 0      int64\n",
      "Date           object\n",
      "Q-P1            int64\n",
      "Q-P2            int64\n",
      "Q-P3            int64\n",
      "Q-P4            int64\n",
      "S-P1          float64\n",
      "S-P2          float64\n",
      "S-P3          float64\n",
      "S-P4          float64\n",
      "dtype: object\n"
     ]
    }
   ],
   "source": [
    "print(\"Data Types:\\n\", df.dtypes)"
   ]
  },
  {
   "cell_type": "code",
   "execution_count": 11,
   "id": "6a8c4eda",
   "metadata": {},
   "outputs": [
    {
     "name": "stdout",
     "output_type": "stream",
     "text": [
      "Summary Statistics:\n",
      "         Unnamed: 0         Q-P1         Q-P2         Q-P3         Q-P4  \\\n",
      "count  4600.000000  4600.000000  4600.000000  4600.000000  4600.000000   \n",
      "mean   2299.500000  4121.849130  2130.281522  3145.740000  1123.500000   \n",
      "std    1328.049949  2244.271323  1089.783705  1671.832231   497.385676   \n",
      "min       0.000000   254.000000   251.000000   250.000000   250.000000   \n",
      "25%    1149.750000  2150.500000  1167.750000  1695.750000   696.000000   \n",
      "50%    2299.500000  4137.000000  2134.000000  3202.500000  1136.500000   \n",
      "75%    3449.250000  6072.000000  3070.250000  4569.000000  1544.000000   \n",
      "max    4599.000000  7998.000000  3998.000000  6000.000000  2000.000000   \n",
      "\n",
      "               S-P1          S-P2          S-P3          S-P4  \n",
      "count   4600.000000   4600.000000   4600.000000   4600.000000  \n",
      "mean   13066.261743  13505.984848  17049.910800   8010.555000  \n",
      "std     7114.340094   6909.228687   9061.330694   3546.359869  \n",
      "min      805.180000   1591.340000   1355.000000   1782.500000  \n",
      "25%     6817.085000   7403.535000   9190.965000   4962.480000  \n",
      "50%    13114.290000  13529.560000  17357.550000   8103.245000  \n",
      "75%    19248.240000  19465.385000  24763.980000  11008.720000  \n",
      "max    25353.660000  25347.320000  32520.000000  14260.000000  \n"
     ]
    }
   ],
   "source": [
    "print(\"Summary Statistics:\\n\", df.describe())"
   ]
  },
  {
   "cell_type": "code",
   "execution_count": 12,
   "id": "81f84593",
   "metadata": {},
   "outputs": [],
   "source": [
    "import numpy as np  # library used for working with arrays\n",
    "import matplotlib.pyplot as plt  # library for plots and visualizations\n",
    "import seaborn as sns"
   ]
  },
  {
   "cell_type": "code",
   "execution_count": 13,
   "id": "ccbf901d",
   "metadata": {},
   "outputs": [],
   "source": [
    "%matplotlib inline\n",
    "\n",
    "# To ignore warnings\n",
    "import warnings\n",
    "warnings.filterwarnings(\"ignore\")"
   ]
  },
  {
   "cell_type": "code",
   "execution_count": 20,
   "id": "706d048f",
   "metadata": {},
   "outputs": [
    {
     "data": {
      "text/html": [
       "<div>\n",
       "<style scoped>\n",
       "    .dataframe tbody tr th:only-of-type {\n",
       "        vertical-align: middle;\n",
       "    }\n",
       "\n",
       "    .dataframe tbody tr th {\n",
       "        vertical-align: top;\n",
       "    }\n",
       "\n",
       "    .dataframe thead th {\n",
       "        text-align: right;\n",
       "    }\n",
       "</style>\n",
       "<table border=\"1\" class=\"dataframe\">\n",
       "  <thead>\n",
       "    <tr style=\"text-align: right;\">\n",
       "      <th></th>\n",
       "      <th>Unnamed: 0</th>\n",
       "      <th>Date</th>\n",
       "      <th>Q-P1</th>\n",
       "      <th>Q-P2</th>\n",
       "      <th>Q-P3</th>\n",
       "      <th>Q-P4</th>\n",
       "      <th>S-P1</th>\n",
       "      <th>S-P2</th>\n",
       "      <th>S-P3</th>\n",
       "      <th>S-P4</th>\n",
       "      <th>Day</th>\n",
       "      <th>Month</th>\n",
       "      <th>Year</th>\n",
       "    </tr>\n",
       "  </thead>\n",
       "  <tbody>\n",
       "    <tr>\n",
       "      <th>0</th>\n",
       "      <td>0</td>\n",
       "      <td>13-06-2010</td>\n",
       "      <td>5422</td>\n",
       "      <td>3725</td>\n",
       "      <td>576</td>\n",
       "      <td>907</td>\n",
       "      <td>17187.74</td>\n",
       "      <td>23616.50</td>\n",
       "      <td>3121.92</td>\n",
       "      <td>6466.91</td>\n",
       "      <td>13</td>\n",
       "      <td>06</td>\n",
       "      <td>2010</td>\n",
       "    </tr>\n",
       "    <tr>\n",
       "      <th>1</th>\n",
       "      <td>1</td>\n",
       "      <td>14-06-2010</td>\n",
       "      <td>7047</td>\n",
       "      <td>779</td>\n",
       "      <td>3578</td>\n",
       "      <td>1574</td>\n",
       "      <td>22338.99</td>\n",
       "      <td>4938.86</td>\n",
       "      <td>19392.76</td>\n",
       "      <td>11222.62</td>\n",
       "      <td>14</td>\n",
       "      <td>06</td>\n",
       "      <td>2010</td>\n",
       "    </tr>\n",
       "    <tr>\n",
       "      <th>2</th>\n",
       "      <td>2</td>\n",
       "      <td>15-06-2010</td>\n",
       "      <td>1572</td>\n",
       "      <td>2082</td>\n",
       "      <td>595</td>\n",
       "      <td>1145</td>\n",
       "      <td>4983.24</td>\n",
       "      <td>13199.88</td>\n",
       "      <td>3224.90</td>\n",
       "      <td>8163.85</td>\n",
       "      <td>15</td>\n",
       "      <td>06</td>\n",
       "      <td>2010</td>\n",
       "    </tr>\n",
       "    <tr>\n",
       "      <th>3</th>\n",
       "      <td>3</td>\n",
       "      <td>16-06-2010</td>\n",
       "      <td>5657</td>\n",
       "      <td>2399</td>\n",
       "      <td>3140</td>\n",
       "      <td>1672</td>\n",
       "      <td>17932.69</td>\n",
       "      <td>15209.66</td>\n",
       "      <td>17018.80</td>\n",
       "      <td>11921.36</td>\n",
       "      <td>16</td>\n",
       "      <td>06</td>\n",
       "      <td>2010</td>\n",
       "    </tr>\n",
       "    <tr>\n",
       "      <th>4</th>\n",
       "      <td>4</td>\n",
       "      <td>17-06-2010</td>\n",
       "      <td>3668</td>\n",
       "      <td>3207</td>\n",
       "      <td>2184</td>\n",
       "      <td>708</td>\n",
       "      <td>11627.56</td>\n",
       "      <td>20332.38</td>\n",
       "      <td>11837.28</td>\n",
       "      <td>5048.04</td>\n",
       "      <td>17</td>\n",
       "      <td>06</td>\n",
       "      <td>2010</td>\n",
       "    </tr>\n",
       "    <tr>\n",
       "      <th>...</th>\n",
       "      <td>...</td>\n",
       "      <td>...</td>\n",
       "      <td>...</td>\n",
       "      <td>...</td>\n",
       "      <td>...</td>\n",
       "      <td>...</td>\n",
       "      <td>...</td>\n",
       "      <td>...</td>\n",
       "      <td>...</td>\n",
       "      <td>...</td>\n",
       "      <td>...</td>\n",
       "      <td>...</td>\n",
       "      <td>...</td>\n",
       "    </tr>\n",
       "    <tr>\n",
       "      <th>4595</th>\n",
       "      <td>4595</td>\n",
       "      <td>30-01-2023</td>\n",
       "      <td>2476</td>\n",
       "      <td>3419</td>\n",
       "      <td>525</td>\n",
       "      <td>1359</td>\n",
       "      <td>7848.92</td>\n",
       "      <td>21676.46</td>\n",
       "      <td>2845.50</td>\n",
       "      <td>9689.67</td>\n",
       "      <td>30</td>\n",
       "      <td>01</td>\n",
       "      <td>2023</td>\n",
       "    </tr>\n",
       "    <tr>\n",
       "      <th>4596</th>\n",
       "      <td>4596</td>\n",
       "      <td>31-01-2023</td>\n",
       "      <td>7446</td>\n",
       "      <td>841</td>\n",
       "      <td>4825</td>\n",
       "      <td>1311</td>\n",
       "      <td>23603.82</td>\n",
       "      <td>5331.94</td>\n",
       "      <td>26151.50</td>\n",
       "      <td>9347.43</td>\n",
       "      <td>31</td>\n",
       "      <td>01</td>\n",
       "      <td>2023</td>\n",
       "    </tr>\n",
       "    <tr>\n",
       "      <th>4597</th>\n",
       "      <td>4597</td>\n",
       "      <td>01-02-2023</td>\n",
       "      <td>6289</td>\n",
       "      <td>3143</td>\n",
       "      <td>3588</td>\n",
       "      <td>474</td>\n",
       "      <td>19936.13</td>\n",
       "      <td>19926.62</td>\n",
       "      <td>19446.96</td>\n",
       "      <td>3379.62</td>\n",
       "      <td>01</td>\n",
       "      <td>02</td>\n",
       "      <td>2023</td>\n",
       "    </tr>\n",
       "    <tr>\n",
       "      <th>4598</th>\n",
       "      <td>4598</td>\n",
       "      <td>02-02-2023</td>\n",
       "      <td>3122</td>\n",
       "      <td>1188</td>\n",
       "      <td>5899</td>\n",
       "      <td>517</td>\n",
       "      <td>9896.74</td>\n",
       "      <td>7531.92</td>\n",
       "      <td>31972.58</td>\n",
       "      <td>3686.21</td>\n",
       "      <td>02</td>\n",
       "      <td>02</td>\n",
       "      <td>2023</td>\n",
       "    </tr>\n",
       "    <tr>\n",
       "      <th>4599</th>\n",
       "      <td>4599</td>\n",
       "      <td>03-02-2023</td>\n",
       "      <td>1234</td>\n",
       "      <td>3854</td>\n",
       "      <td>2321</td>\n",
       "      <td>406</td>\n",
       "      <td>3911.78</td>\n",
       "      <td>24434.36</td>\n",
       "      <td>12579.82</td>\n",
       "      <td>2894.78</td>\n",
       "      <td>03</td>\n",
       "      <td>02</td>\n",
       "      <td>2023</td>\n",
       "    </tr>\n",
       "  </tbody>\n",
       "</table>\n",
       "<p>4600 rows × 13 columns</p>\n",
       "</div>"
      ],
      "text/plain": [
       "      Unnamed: 0        Date  Q-P1  Q-P2  Q-P3  Q-P4      S-P1      S-P2  \\\n",
       "0              0  13-06-2010  5422  3725   576   907  17187.74  23616.50   \n",
       "1              1  14-06-2010  7047   779  3578  1574  22338.99   4938.86   \n",
       "2              2  15-06-2010  1572  2082   595  1145   4983.24  13199.88   \n",
       "3              3  16-06-2010  5657  2399  3140  1672  17932.69  15209.66   \n",
       "4              4  17-06-2010  3668  3207  2184   708  11627.56  20332.38   \n",
       "...          ...         ...   ...   ...   ...   ...       ...       ...   \n",
       "4595        4595  30-01-2023  2476  3419   525  1359   7848.92  21676.46   \n",
       "4596        4596  31-01-2023  7446   841  4825  1311  23603.82   5331.94   \n",
       "4597        4597  01-02-2023  6289  3143  3588   474  19936.13  19926.62   \n",
       "4598        4598  02-02-2023  3122  1188  5899   517   9896.74   7531.92   \n",
       "4599        4599  03-02-2023  1234  3854  2321   406   3911.78  24434.36   \n",
       "\n",
       "          S-P3      S-P4 Day Month  Year  \n",
       "0      3121.92   6466.91  13    06  2010  \n",
       "1     19392.76  11222.62  14    06  2010  \n",
       "2      3224.90   8163.85  15    06  2010  \n",
       "3     17018.80  11921.36  16    06  2010  \n",
       "4     11837.28   5048.04  17    06  2010  \n",
       "...        ...       ...  ..   ...   ...  \n",
       "4595   2845.50   9689.67  30    01  2023  \n",
       "4596  26151.50   9347.43  31    01  2023  \n",
       "4597  19446.96   3379.62  01    02  2023  \n",
       "4598  31972.58   3686.21  02    02  2023  \n",
       "4599  12579.82   2894.78  03    02  2023  \n",
       "\n",
       "[4600 rows x 13 columns]"
      ]
     },
     "execution_count": 20,
     "metadata": {},
     "output_type": "execute_result"
    }
   ],
   "source": [
    "df['Day'] = df['Date'].apply(lambda x: x.split('-')[0])\n",
    "df['Month'] = df['Date'].apply(lambda x: x.split('-')[1])\n",
    "df['Year'] = df['Date'].apply(lambda x: x.split('-')[2])\n",
    "df"
   ]
  },
  {
   "cell_type": "code",
   "execution_count": 21,
   "id": "ce1dc174",
   "metadata": {},
   "outputs": [],
   "source": [
    "data_reduced = df.query(\"Year != '2010' and Year != '2023'\")"
   ]
  },
  {
   "cell_type": "code",
   "execution_count": 22,
   "id": "52fbaa30",
   "metadata": {},
   "outputs": [],
   "source": [
    "data = df.drop(columns=['Unnamed: 0'])"
   ]
  },
  {
   "cell_type": "code",
   "execution_count": 23,
   "id": "b9fc0e1b",
   "metadata": {},
   "outputs": [],
   "source": [
    "#Create a function that allows us to plot a bar chart for the 4 products\n",
    "def plot_bar_chart(df, columns, stri, str1, val):\n",
    "    # Aggregate sales for each product by year, by sum or mean\n",
    "    if val == 'sum':\n",
    "        sales_by_year = df.groupby('Year')[columns].sum().reset_index()\n",
    "    elif val == 'mean':\n",
    "        sales_by_year = df.groupby('Year')[columns].mean().reset_index()\n",
    "\n",
    "    # Melt the data to make it easier to plot\n",
    "    sales_by_year_melted = pd.melt(sales_by_year, id_vars='Year', value_vars=columns, var_name='Product', value_name='Sales')\n",
    "\n",
    "    # Create a bar chart\n",
    "    plt.figure(figsize=(20,4))\n",
    "    sns.barplot(data=sales_by_year_melted, x='Year', y='Sales', hue='Product') #,palette=\"cividis\")\n",
    "    plt.xlabel('Year')\n",
    "    plt.ylabel(stri)\n",
    "    plt.title(f'{stri} by {str1}')\n",
    "    plt.xticks(rotation=45)\n",
    "    plt.show()"
   ]
  },
  {
   "cell_type": "code",
   "execution_count": 24,
   "id": "45caa6b0",
   "metadata": {},
   "outputs": [
    {
     "data": {
      "image/png": "[encoded data removed]",
      "text/plain": [
       "<Figure size 2000x400 with 1 Axes>"
      ]
     },
     "metadata": {},
     "output_type": "display_data"
    },
    {
     "data": {
      "image/png": "[encoded data removed]",
      "text/plain": [
       "<Figure size 2000x400 with 1 Axes>"
      ]
     },
     "metadata": {},
     "output_type": "display_data"
    }
   ],
   "source": [
    "plot_bar_chart(data_reduced, ['Q-P1', 'Q-P2', 'Q-P3', 'Q-P4'],'Total Unit Sales', 'Year', 'sum')\n",
    "\n",
    "plot_bar_chart(data_reduced, ['Q-P1', 'Q-P2', 'Q-P3', 'Q-P4'],'Mean Unit Sales', 'Year', 'mean')"
   ]
  },
  {
   "cell_type": "code",
   "execution_count": null,
   "id": "2f94e4a8",
   "metadata": {},
   "outputs": [],
   "source": []
  }
 ],
 "metadata": {
  "kernelspec": {
   "display_name": "Python 3 (ipykernel)",
   "language": "python",
   "name": "python3"
  },
  "language_info": {
   "codemirror_mode": {
    "name": "ipython",
    "version": 3
   },
   "file_extension": ".py",
   "mimetype": "text/x-python",
   "name": "python",
   "nbconvert_exporter": "python",
   "pygments_lexer": "ipython3",
   "version": "3.10.9"
  }
 },
 "nbformat": 4,
 "nbformat_minor": 5
}
